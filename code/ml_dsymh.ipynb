{
 "cells": [
  {
   "cell_type": "markdown",
   "metadata": {},
   "source": [
    "The purpose of the notebook is to use machine learning to see if I can come up with a predictor for the change in [SymH](http://wdc.kugi.kyoto-u.ac.jp/aeasy/). What I expect to see is that the best predictor will be IMF Bz, which we know that southward turnings can drive geomagnetic storms. \n",
    "\n",
    "First this code will read in the SW data files into a single pandas data frame that can be used for the ML programs. The SW data files from CDAWeb has additional information and meta data to make sure the files are useful for future generations. I'll just pull our the stuff that is relevant for my playing here, but anyone interested can read all you want at the [CDAWeb site](https://cdaweb.gsfc.nasa.gov/index.html/). I am going to grab the data from OMNI (shifted solar wind data) and the following fields:\n",
    "\n",
    "- time (this is automatically included)\n",
    "- Bx\n",
    "- By\n",
    "- Bz\n",
    "- Flow speed\n",
    "- vx\n",
    "- vy\n",
    "- vz\n",
    "- proton density\n",
    "- flow pressure\n",
    "- SymH\n",
    "\n",
    "I am also going to use 1 minute time resolution. Note that there will be data gaps in some of the fields, so I'll have to handle that as well. I have been downloading these files by hand. I had a code that would go to the website and download data files, but it recently started giving me errors. I believe there may have been a formatting change to the website, so I will have to go look at that later."
   ]
  },
  {
   "cell_type": "code",
   "execution_count": 1,
   "metadata": {},
   "outputs": [],
   "source": [
    "import pandas as pd\n",
    "from os import listdir\n",
    "from os.path import isfile, join\n",
    "import numpy"
   ]
  },
  {
   "cell_type": "markdown",
   "metadata": {},
   "source": [
    "Now read in the contents of the data directory. I have a number of *.txt files, so I want to read though the list of the files, read in each file, and concatenate them together."
   ]
  },
  {
   "cell_type": "code",
   "execution_count": 2,
   "metadata": {},
   "outputs": [],
   "source": [
    "mypath = \"../SW_data/\"\n",
    "files = [f for f in listdir(mypath) if isfile(join(mypath, f))]"
   ]
  },
  {
   "cell_type": "code",
   "execution_count": 3,
   "metadata": {},
   "outputs": [],
   "source": [
    "data = pd.read_csv(mypath + files[0], sep = '\\s+', engine='python',skiprows = 73, skipfooter=3, header=None, \n",
    "                   names=['date', 'time', 'bx', 'by', 'bz', 'flow_speed', \n",
    "                          'vx', 'vy', 'vz', 'H_den', 'Pdyn', 'SymH'])\n",
    "for f in files[1:]:\n",
    "    data2 = pd.read_csv(mypath + f, sep = '\\s+', engine='python', skiprows = 73, skipfooter = 3, header=None, \n",
    "                                           names=['date', 'time', 'bx', 'by', 'bz', 'flow_speed', \n",
    "                                                  'vx', 'vy', 'vz', 'H_den', 'Pdyn', 'SymH'])\n",
    "    data = pd.concat([data, data2])\n",
    "    "
   ]
  },
  {
   "cell_type": "markdown",
   "metadata": {},
   "source": [
    "Now that we have the data read in, we will need to handle the bad data. These will be for times that for whatever reason there is no data. Luckily these are already flagged for us, sort of. The followin values indicate bad data:\n",
    "\n",
    "- Magnetic field, 9999.99\n",
    "- Flow speed, 99999.9\n",
    "- velocity vector, 99999.9\n",
    "- Proton density, 999.99\n",
    "- Dynamic pressure, 99.99\n",
    "- SymH, 99999\n",
    "\n",
    "We will replace the flagged data with NaN. Since some of the values come from the same instrument, we don't need to search every value. For example, knowing one component of the B field is sufficient. So copy the rows that do not have bad values."
   ]
  },
  {
   "cell_type": "code",
   "execution_count": 4,
   "metadata": {},
   "outputs": [],
   "source": [
    "data = data.where((data['flow_speed']!=99999.9) & \n",
    "                  (data['bx']!=9999.99) &\n",
    "                  (data['vx']!=9999.99) &\n",
    "                  (data['H_den']!=999.99) &\n",
    "                  (data['SymH']!=99999))"
   ]
  },
  {
   "cell_type": "code",
   "execution_count": 5,
   "metadata": {},
   "outputs": [],
   "source": [
    "del data['date']\n",
    "del data['time']"
   ]
  },
  {
   "cell_type": "markdown",
   "metadata": {},
   "source": [
    "Now define the values that I am working to predict. I am giong to use the SW and current SymH values to predict the change in SymH. I guess I could have easily have predicted the next value, but either way should be equivalent. The change will be the value d_SymH.  I also have removed the date and time, since they will not have an effect on the SymH values."
   ]
  },
  {
   "cell_type": "code",
   "execution_count": 6,
   "metadata": {},
   "outputs": [],
   "source": [
    "data['d_SymH'] = data['SymH'].shift(periods=-1) - data['SymH']\n"
   ]
  },
  {
   "cell_type": "code",
   "execution_count": 7,
   "metadata": {},
   "outputs": [],
   "source": [
    "dd = data[data['d_SymH'].notnull()]"
   ]
  },
  {
   "cell_type": "markdown",
   "metadata": {},
   "source": [
    "Now make a few quick plots to look at what I have here. Use matplotlib to do the plotting."
   ]
  },
  {
   "cell_type": "code",
   "execution_count": 8,
   "metadata": {},
   "outputs": [],
   "source": [
    "from matplotlib import pyplot as plt\n",
    "%matplotlib inline"
   ]
  },
  {
   "cell_type": "code",
   "execution_count": 9,
   "metadata": {},
   "outputs": [
    {
     "data": {
      "text/plain": [
       "<matplotlib.collections.PathCollection at 0x26cd7cf3c88>"
      ]
     },
     "execution_count": 9,
     "metadata": {},
     "output_type": "execute_result"
    },
    {
     "data": {
      "image/png": "[encoded data removed]",
      "text/plain": [
       "<Figure size 432x288 with 1 Axes>"
      ]
     },
     "metadata": {
      "needs_background": "light"
     },
     "output_type": "display_data"
    }
   ],
   "source": [
    "fig = plt.figure()\n",
    "ax = fig.add_axes([0,0,1,1])\n",
    "ax.scatter(dd['bz'], dd['d_SymH'])"
   ]
  },
  {
   "cell_type": "code",
   "execution_count": 13,
   "metadata": {},
   "outputs": [
    {
     "data": {
      "text/plain": [
       "(array([[0., 0., 0., ..., 0., 0., 0.],\n",
       "        [0., 0., 0., ..., 0., 0., 0.],\n",
       "        [0., 0., 0., ..., 0., 0., 0.],\n",
       "        ...,\n",
       "        [0., 0., 0., ..., 0., 0., 0.],\n",
       "        [0., 0., 0., ..., 0., 0., 0.],\n",
       "        [0., 0., 0., ..., 0., 0., 0.]]),\n",
       " array([-35.   , -33.375, -31.75 , -30.125, -28.5  , -26.875, -25.25 ,\n",
       "        -23.625, -22.   , -20.375, -18.75 , -17.125, -15.5  , -13.875,\n",
       "        -12.25 , -10.625,  -9.   ,  -7.375,  -5.75 ,  -4.125,  -2.5  ,\n",
       "         -0.875,   0.75 ,   2.375,   4.   ,   5.625,   7.25 ,   8.875,\n",
       "         10.5  ,  12.125,  13.75 ,  15.375,  17.   ,  18.625,  20.25 ,\n",
       "         21.875,  23.5  ,  25.125,  26.75 ,  28.375,  30.   ]),\n",
       " array([-150. , -142.6, -135.2, -127.8, -120.4, -113. , -105.6,  -98.2,\n",
       "         -90.8,  -83.4,  -76. ,  -68.6,  -61.2,  -53.8,  -46.4,  -39. ,\n",
       "         -31.6,  -24.2,  -16.8,   -9.4,   -2. ,    5.4,   12.8,   20.2,\n",
       "          27.6,   35. ,   42.4,   49.8,   57.2,   64.6,   72. ,   79.4,\n",
       "          86.8,   94.2,  101.6,  109. ,  116.4,  123.8,  131.2,  138.6,\n",
       "         146. ]),\n",
       " <matplotlib.collections.QuadMesh at 0x26cd8101588>)"
      ]
     },
     "execution_count": 13,
     "metadata": {},
     "output_type": "execute_result"
    },
    {
     "data": {
      "image/png": "[encoded data removed]",
      "text/plain": [
       "<Figure size 432x288 with 1 Axes>"
      ]
     },
     "metadata": {
      "needs_background": "light"
     },
     "output_type": "display_data"
    }
   ],
   "source": [
    "plt.hist2d(dd['d_SymH'], dd['SymH'], bins = 40)"
   ]
  },
  {
   "cell_type": "code",
   "execution_count": 14,
   "metadata": {},
   "outputs": [
    {
     "data": {
      "text/plain": [
       "(array([1.00000e+00, 0.00000e+00, 0.00000e+00, 0.00000e+00, 0.00000e+00,\n",
       "        0.00000e+00, 0.00000e+00, 1.00000e+00, 0.00000e+00, 1.00000e+00,\n",
       "        0.00000e+00, 0.00000e+00, 3.00000e+00, 1.00000e+00, 2.00000e+00,\n",
       "        5.00000e+00, 1.10000e+01, 4.40000e+01, 4.40000e+01, 4.52000e+02,\n",
       "        4.05650e+04, 2.76403e+05, 4.11810e+04, 2.75000e+02, 1.15000e+02,\n",
       "        3.00000e+01, 6.00000e+00, 7.00000e+00, 6.00000e+00, 2.00000e+00,\n",
       "        5.00000e+00, 1.00000e+00, 3.00000e+00, 0.00000e+00, 2.00000e+00,\n",
       "        0.00000e+00, 1.00000e+00, 0.00000e+00, 1.00000e+00, 1.00000e+00]),\n",
       " array([-35.   , -33.375, -31.75 , -30.125, -28.5  , -26.875, -25.25 ,\n",
       "        -23.625, -22.   , -20.375, -18.75 , -17.125, -15.5  , -13.875,\n",
       "        -12.25 , -10.625,  -9.   ,  -7.375,  -5.75 ,  -4.125,  -2.5  ,\n",
       "         -0.875,   0.75 ,   2.375,   4.   ,   5.625,   7.25 ,   8.875,\n",
       "         10.5  ,  12.125,  13.75 ,  15.375,  17.   ,  18.625,  20.25 ,\n",
       "         21.875,  23.5  ,  25.125,  26.75 ,  28.375,  30.   ]),\n",
       " <a list of 40 Patch objects>)"
      ]
     },
     "execution_count": 14,
     "metadata": {},
     "output_type": "execute_result"
    },
    {
     "data": {
      "image/png": "[encoded data removed]",
      "text/plain": [
       "<Figure size 432x288 with 1 Axes>"
      ]
     },
     "metadata": {
      "needs_background": "light"
     },
     "output_type": "display_data"
    }
   ],
   "source": [
    "plt.hist(dd['d_SymH'], bins = 40, log=True)"
   ]
  },
  {
   "cell_type": "markdown",
   "metadata": {},
   "source": [
    "OK, here is a problem. The vast majority of the values for $\\Delta$SymH are near zero, or $\\pm$1. From the plot above we see that the probablity of having a shift >|2| is down many orders of magnitude. I expect that since there is not very much variation in $\\Delta$SymH the model will have a hard time predicting its change."
   ]
  },
  {
   "cell_type": "markdown",
   "metadata": {},
   "source": [
    "Now I have the data sorted out. If I had and categoriccal data, I could have used the .get_dummies() funcition from Pandas. Now load the scikit learn packages, "
   ]
  },
  {
   "cell_type": "code",
   "execution_count": 15,
   "metadata": {},
   "outputs": [],
   "source": [
    "from sklearn.model_selection import train_test_split\n",
    "from sklearn import ensemble\n",
    "from sklearn.metrics import mean_absolute_error\n",
    "from sklearn.externals import joblib"
   ]
  },
  {
   "cell_type": "markdown",
   "metadata": {},
   "source": [
    "Now break up the data frame into a features matrix and a matrix of the values to search for."
   ]
  },
  {
   "cell_type": "code",
   "execution_count": 16,
   "metadata": {},
   "outputs": [],
   "source": [
    "Y = dd['d_SymH'].values\n",
    "features_df = dd"
   ]
  },
  {
   "cell_type": "code",
   "execution_count": 17,
   "metadata": {},
   "outputs": [],
   "source": [
    "del features_df['d_SymH']"
   ]
  },
  {
   "cell_type": "code",
   "execution_count": 18,
   "metadata": {},
   "outputs": [],
   "source": [
    "X = features_df.values"
   ]
  },
  {
   "cell_type": "code",
   "execution_count": 19,
   "metadata": {},
   "outputs": [
    {
     "data": {
      "text/plain": [
       "array([0., 1., 1., ..., 1., 0., 0.])"
      ]
     },
     "execution_count": 19,
     "metadata": {},
     "output_type": "execute_result"
    }
   ],
   "source": [
    "Y"
   ]
  },
  {
   "cell_type": "code",
   "execution_count": 20,
   "metadata": {},
   "outputs": [
    {
     "data": {
      "text/plain": [
       "array([[  0.26,   0.98,  -0.08, ...,   6.35,   1.74, -12.  ],\n",
       "       [ -0.28,   2.08,  -0.97, ...,   6.11,   1.65, -12.  ],\n",
       "       [  0.7 ,   2.26,  -0.39, ...,   7.25,   1.95, -11.  ],\n",
       "       ...,\n",
       "       [  2.35,  -1.5 ,   0.22, ...,   1.94,   0.49, -10.  ],\n",
       "       [  2.33,  -1.53,   0.22, ...,   2.07,   0.52,  -9.  ],\n",
       "       [  2.54,  -1.08,   0.28, ...,   2.09,   0.52,  -9.  ]])"
      ]
     },
     "execution_count": 20,
     "metadata": {},
     "output_type": "execute_result"
    }
   ],
   "source": [
    "X"
   ]
  },
  {
   "cell_type": "markdown",
   "metadata": {},
   "source": [
    "Now split the data into a training and test sets. I'll use the standard 70% training and 30% test ratio"
   ]
  },
  {
   "cell_type": "code",
   "execution_count": 21,
   "metadata": {},
   "outputs": [],
   "source": [
    "X_train, X_test, Y_train, Y_test = train_test_split(X, Y, test_size = 0.3, random_state = 0)"
   ]
  },
  {
   "cell_type": "markdown",
   "metadata": {},
   "source": [
    "The next bit of code is where the model is run. First lets try a gradient boosting regressor."
   ]
  },
  {
   "cell_type": "code",
   "execution_count": 22,
   "metadata": {},
   "outputs": [
    {
     "data": {
      "text/plain": [
       "['Trained_DeltaSymH_classifer_model.pkl']"
      ]
     },
     "execution_count": 22,
     "metadata": {},
     "output_type": "execute_result"
    }
   ],
   "source": [
    "model = ensemble.GradientBoostingRegressor(\n",
    "    n_estimators = 1000,\n",
    "    learning_rate=0.1,\n",
    "    max_depth=6,\n",
    "    min_samples_leaf=9,\n",
    "    max_features=0.1,\n",
    "    loss='huber'\n",
    "    )\n",
    "\n",
    "model.fit(X_train, Y_train)\n",
    "\n",
    "#save the data\n",
    "joblib.dump(model, 'Trained_DeltaSymH_classifer_model.pkl')"
   ]
  },
  {
   "cell_type": "markdown",
   "metadata": {},
   "source": [
    "Now calculate the error rates on the training set and the test set"
   ]
  },
  {
   "cell_type": "code",
   "execution_count": 23,
   "metadata": {},
   "outputs": [],
   "source": [
    "mse_train = mean_absolute_error(Y_train, model.predict(X_train))\n",
    "mse_test  = mean_absolute_error(Y_test,  model.predict(X_test))"
   ]
  },
  {
   "cell_type": "code",
   "execution_count": 24,
   "metadata": {},
   "outputs": [
    {
     "name": "stdout",
     "output_type": "stream",
     "text": [
      "Training set mean absolute error: 0.2540\n",
      "Test set mean absolute error: 0.2713\n"
     ]
    }
   ],
   "source": [
    "print(\"Training set mean absolute error: %.4f\" % mse_train)\n",
    "print(\"Test set mean absolute error: %.4f\" % mse_test)"
   ]
  },
  {
   "cell_type": "markdown",
   "metadata": {},
   "source": []
  }
 ],
 "metadata": {
  "kernelspec": {
   "display_name": "Python 3",
   "language": "python",
   "name": "python3"
  },
  "language_info": {
   "codemirror_mode": {
    "name": "ipython",
    "version": 3
   },
   "file_extension": ".py",
   "mimetype": "text/x-python",
   "name": "python",
   "nbconvert_exporter": "python",
   "pygments_lexer": "ipython3",
   "version": "3.7.3"
  }
 },
 "nbformat": 4,
 "nbformat_minor": 2
}
